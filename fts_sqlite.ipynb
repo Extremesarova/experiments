{
 "cells": [
  {
   "cell_type": "markdown",
   "metadata": {},
   "source": [
    "## Full-Text Search using SQLite"
   ]
  },
  {
   "cell_type": "code",
   "execution_count": 1,
   "metadata": {},
   "outputs": [],
   "source": [
    "#!pip3 install --upgrade nltk"
   ]
  },
  {
   "cell_type": "code",
   "execution_count": 2,
   "metadata": {},
   "outputs": [],
   "source": [
    "import re\n",
    "import sqlite3\n",
    "from collections import Counter\n",
    "from nltk.tokenize import TweetTokenizer"
   ]
  },
  {
   "cell_type": "code",
   "execution_count": 3,
   "metadata": {},
   "outputs": [],
   "source": [
    "tokenizer = TweetTokenizer() # doesn't split the contractions into two parts\n",
    "\n",
    "def generate_vocabulary(train_captions, min_threshold):\n",
    "    concat_str = ' '.join([str(elem).strip('\\n') for elem in train_captions])\n",
    "    individual_words = tokenizer.tokenize(concat_str.lower())\n",
    "    condition_keys = sorted([key for key, value in Counter(individual_words).items() if value >= min_threshold])\n",
    "    result = dict(zip(condition_keys, range(len(condition_keys))))\n",
    "    return result\n",
    "\n",
    "\n",
    "def delete_nonvocab_words(text, vocab):\n",
    "    new_text = re.sub(' +', ' ', \" \".join([word if word in vocab.keys() else \"\" for word in tokenizer.tokenize(text)]).strip())\n",
    "    if new_text == \"\":\n",
    "        new_text = \"<empty>\"\n",
    "    return new_text"
   ]
  },
  {
   "cell_type": "code",
   "execution_count": 4,
   "metadata": {},
   "outputs": [],
   "source": [
    "intent_dict = {\"intent_1\":[\"play some music\", \"let's listen to music\"], \n",
    "               \"intent_2\":[\"open first window\", \"open second window\"],\n",
    "               \"intent_3\":[\"close all windows\"]}\n",
    "\n",
    "texts = list(sum(intent_dict.values(), []))\n",
    "\n",
    "voc = generate_vocabulary(texts, min_threshold=1)"
   ]
  },
  {
   "cell_type": "code",
   "execution_count": 5,
   "metadata": {},
   "outputs": [
    {
     "data": {
      "text/plain": [
       "{'all': 0,\n",
       " 'close': 1,\n",
       " 'first': 2,\n",
       " \"let's\": 3,\n",
       " 'listen': 4,\n",
       " 'music': 5,\n",
       " 'open': 6,\n",
       " 'play': 7,\n",
       " 'second': 8,\n",
       " 'some': 9,\n",
       " 'to': 10,\n",
       " 'window': 11,\n",
       " 'windows': 12}"
      ]
     },
     "execution_count": 5,
     "metadata": {},
     "output_type": "execute_result"
    }
   ],
   "source": [
    "voc"
   ]
  },
  {
   "cell_type": "code",
   "execution_count": 6,
   "metadata": {},
   "outputs": [],
   "source": [
    "con = sqlite3.connect('fts5.db')\n",
    "cur = con.cursor()"
   ]
  },
  {
   "cell_type": "code",
   "execution_count": 7,
   "metadata": {},
   "outputs": [],
   "source": [
    "cur.execute('''DROP TABLE IF EXISTS intents''')\n",
    "cur.execute('''CREATE VIRTUAL TABLE intents USING FTS5(intent UNINDEXED, variation)''')\n",
    "\n",
    "c = \"INSERT INTO intents VALUES \"\n",
    "for intent, variations in intent_dict.items():\n",
    "    for variation in variations:\n",
    "        c += f'(\"{intent}\", \"{variation}\"), '\n",
    "        \n",
    "c = c[:-2]\n",
    "\n",
    "cur.execute(c)\n",
    "con.commit()"
   ]
  },
  {
   "cell_type": "code",
   "execution_count": 8,
   "metadata": {},
   "outputs": [
    {
     "name": "stdout",
     "output_type": "stream",
     "text": [
      "Initial query: open\n",
      "Preprocessed query: open\n",
      "('intent_2', 'open first window', -0.35348487779869003)\n",
      "('intent_2', 'open second window', -0.35348487779869003)\n",
      "\n",
      "\n",
      "Initial query: close\n",
      "Preprocessed query: close\n",
      "('intent_3', 'close all windows', -1.1541601010164977)\n",
      "\n",
      "\n",
      "Initial query: play music\n",
      "Preprocessed query: play music\n",
      "('intent_1', 'play some music', -1.5076449788151878)\n",
      "\n",
      "\n",
      "Initial query: play a song\n",
      "Preprocessed query: play\n",
      "('intent_1', 'play some music', -1.1541601010164977)\n",
      "\n",
      "\n"
     ]
    }
   ],
   "source": [
    "queries = [\"open\", \"close\", \"play music\", \"play a song\"]\n",
    "\n",
    "# could use query relaxation\n",
    "\n",
    "for query in queries:\n",
    "    preprocessed_query = delete_nonvocab_words(query, voc)\n",
    "    print(\"Initial query:\", query)\n",
    "    print(\"Preprocessed query:\", preprocessed_query)\n",
    "    if preprocessed_query != \"<empty>\":\n",
    "        for row in cur.execute(f\"SELECT t.*, rank FROM intents t WHERE variation MATCH '{preprocessed_query}*' ORDER BY rank;\"):\n",
    "            print(row)\n",
    "    print(\"\\n\")"
   ]
  },
  {
   "cell_type": "code",
   "execution_count": null,
   "metadata": {},
   "outputs": [],
   "source": []
  }
 ],
 "metadata": {
  "kernelspec": {
   "display_name": "Python 3",
   "language": "python",
   "name": "python3"
  },
  "language_info": {
   "codemirror_mode": {
    "name": "ipython",
    "version": 3
   },
   "file_extension": ".py",
   "mimetype": "text/x-python",
   "name": "python",
   "nbconvert_exporter": "python",
   "pygments_lexer": "ipython3",
   "version": "3.8.5"
  }
 },
 "nbformat": 4,
 "nbformat_minor": 2
}
