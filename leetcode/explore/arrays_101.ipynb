{
 "cells": [
  {
   "cell_type": "markdown",
   "id": "21039b3e-8f48-4fa9-b450-ec8ad6c9ec2b",
   "metadata": {},
   "source": [
    "### What Is an Array?"
   ]
  },
  {
   "cell_type": "markdown",
   "id": "7550bb24-72a7-40ad-85c3-ad8d395241cc",
   "metadata": {},
   "source": [
    "An Array is a collection of items. The items could be integers, strings, DVDs, games, books - anything really. The items are stored in neighboring (contiguous) memory locations. Because they're stored together, checking through the entire collection of items is straightforward."
   ]
  },
  {
   "cell_type": "markdown",
   "id": "9575e971-069b-493c-bb61-9a7aced3afce",
   "metadata": {},
   "source": [
    "Below we can see an example of array `dvdCollection` implementation in Java alongside with the definition of `DVD` object for clarity. "
   ]
  },
  {
   "cell_type": "markdown",
   "id": "fd3cf419-d392-463b-9db5-e28c605e51e7",
   "metadata": {},
   "source": [
    "<pre><code>\n",
    "DVD[] dvdCollection = new DVD[15];\n",
    "\n",
    "public class DVD {\n",
    "    public String name;\n",
    "    public int releaseYear;\n",
    "    public String director;\n",
    "\n",
    "    public DVD(String name, int releaseYear, String director) {\n",
    "        this.name = name;\n",
    "        this.releaseYear = releaseYear;\n",
    "        this.director = director;\n",
    "    }\n",
    "\n",
    "    public String toString() {\n",
    "        return this.name + \", directed by \" + this.director + \", released in \" + this.releaseYear;\n",
    "    }\n",
    "} \n",
    "</code></pre>"
   ]
  },
  {
   "cell_type": "markdown",
   "id": "a8d3823a-1129-4019-80ae-62029b0aea2d",
   "metadata": {},
   "source": [
    "After running the above code, we will have an Array called dvdCollection, with 15 places in it. Each place can hold one DVD. At the start, there are no DVD's in the Array; we'll have to actually put them in."
   ]
  },
  {
   "cell_type": "markdown",
   "id": "19f00f53-a9c8-4074-8381-56bffd933903",
   "metadata": {},
   "source": [
    "The things are different in Python. </br>\n",
    "\n",
    "The closest thing to Array in Python is `list` class, which is actually an array of references. Lists can contain any sort of object:\n",
    "numbers, strings, and even other lists. Lists may be changed in place by assignment to offsets and slices, list method calls, deletion statements, and more - they are mutable objects. </br>\n",
    "\n",
    "Another option to represent Array in Python is `array` class. Arrays are sequence types and behave very much like lists, except that the type of objects stored in them is constrained. The type is specified at object creation time by using a type code. </br>\n",
    "\n",
    "Now let's implement example from above in Python using lists."
   ]
  },
  {
   "cell_type": "code",
   "execution_count": 18,
   "id": "20b1eade-517d-49c7-bfd5-e99385577ac6",
   "metadata": {},
   "outputs": [],
   "source": [
    "class DVD: \n",
    "    def __init__(self, name: str, release_year: int, director: str):\n",
    "        self.name = name\n",
    "        self.release_year = release_year\n",
    "        self.director = director\n",
    "    \n",
    "    def to_string(self):\n",
    "        return f\"{self.name}, directed by {self.director}, released in {self.release_year}\"\n",
    "    \n",
    "dvd_collection = [None] * 15\n",
    "dune_dvd = DVD(\"Dune\", 2021, \"Denis Villeneuve\")"
   ]
  },
  {
   "cell_type": "code",
   "execution_count": 19,
   "id": "364bda39-b214-4294-9680-fbcbe2003553",
   "metadata": {},
   "outputs": [
    {
     "data": {
      "text/plain": [
       "'Dune, directed by Denis Villeneuve, released in 2021'"
      ]
     },
     "execution_count": 19,
     "metadata": {},
     "output_type": "execute_result"
    }
   ],
   "source": [
    "dune_dvd.to_string()"
   ]
  },
  {
   "cell_type": "code",
   "execution_count": 20,
   "id": "109cc1f6-374d-4980-9e7b-c74e29934f5a",
   "metadata": {},
   "outputs": [
    {
     "name": "stdout",
     "output_type": "stream",
     "text": [
      "[None, None, None, None, None, None, None, None, None, None, None, None, None, None, None]\n"
     ]
    }
   ],
   "source": [
    "print(dvd_collection)"
   ]
  },
  {
   "cell_type": "code",
   "execution_count": 21,
   "id": "02195c84-bc76-414d-bae1-2940d78f7b25",
   "metadata": {},
   "outputs": [],
   "source": [
    "dvd_collection[7] = dvd_collection"
   ]
  },
  {
   "cell_type": "code",
   "execution_count": 22,
   "id": "2cdb2308-2d35-4ab6-b916-3df8aac586bd",
   "metadata": {},
   "outputs": [
    {
     "name": "stdout",
     "output_type": "stream",
     "text": [
      "[None, None, None, None, None, None, None, [...], None, None, None, None, None, None, None]\n"
     ]
    }
   ],
   "source": [
    "print(dvd_collection)"
   ]
  },
  {
   "cell_type": "code",
   "execution_count": null,
   "id": "ee79e339-ec0b-44d6-89e4-b0b5bb05e0ac",
   "metadata": {},
   "outputs": [],
   "source": []
  }
 ],
 "metadata": {
  "kernelspec": {
   "display_name": "Python 3",
   "language": "python",
   "name": "python3"
  },
  "language_info": {
   "codemirror_mode": {
    "name": "ipython",
    "version": 3
   },
   "file_extension": ".py",
   "mimetype": "text/x-python",
   "name": "python",
   "nbconvert_exporter": "python",
   "pygments_lexer": "ipython3",
   "version": "3.8.10"
  }
 },
 "nbformat": 4,
 "nbformat_minor": 5
}
