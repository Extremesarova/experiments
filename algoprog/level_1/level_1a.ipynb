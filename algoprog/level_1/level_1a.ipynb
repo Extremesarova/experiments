{
 "cells": [
  {
   "cell_type": "markdown",
   "id": "a04ee68a-f256-4bf1-80a0-52619559dbbb",
   "metadata": {
    "tags": []
   },
   "source": [
    "# Sharing apples # 1"
   ]
  },
  {
   "cell_type": "markdown",
   "id": "ac5882bb-2204-460e-b67a-fc84facaa364",
   "metadata": {},
   "source": [
    "**N** schoolchildren divide **K** apples equally, the non-dividing remainder remains in the basket. How many apples will each student get?\n",
    "\n",
    "**Input data**\n",
    "The program receives the natural numbers N and K.\n",
    "\n",
    "**Output data**\n",
    "The program should output the desired number of apples."
   ]
  },
  {
   "cell_type": "code",
   "execution_count": 1,
   "id": "ce2c4b4f-8a0a-4fbd-a3e1-a8890be136d9",
   "metadata": {},
   "outputs": [
    {
     "name": "stdin",
     "output_type": "stream",
     "text": [
      " 3\n",
      " 14\n"
     ]
    },
    {
     "name": "stdout",
     "output_type": "stream",
     "text": [
      "4\n"
     ]
    }
   ],
   "source": [
    "n = int(input())\n",
    "k = int(input())\n",
    "\n",
    "print(k // n)"
   ]
  },
  {
   "cell_type": "markdown",
   "id": "ab62a615-e4c3-4c94-88b0-63c0686ba12e",
   "metadata": {
    "tags": []
   },
   "source": [
    "# Sharing apples # 2"
   ]
  },
  {
   "cell_type": "markdown",
   "id": "b3181266-a51b-4a34-bd0c-e7c4a6924dc0",
   "metadata": {},
   "source": [
    "**N** schoolchildren divide **K** apples equally, the non-dividing remainder remains in the basket. How many apples will remain in the basket?\n",
    "\n",
    "**Input data**\n",
    "The program receives the natural numbers N and K.\n",
    "\n",
    "**Output data**\n",
    "The program should output the desired number of apples."
   ]
  },
  {
   "cell_type": "code",
   "execution_count": 2,
   "id": "2fb23ccf-9085-49f5-892b-5fc27adee9d2",
   "metadata": {},
   "outputs": [
    {
     "name": "stdin",
     "output_type": "stream",
     "text": [
      " 3\n",
      " 14\n"
     ]
    },
    {
     "name": "stdout",
     "output_type": "stream",
     "text": [
      "2\n"
     ]
    }
   ],
   "source": [
    "n = int(input())\n",
    "k = int(input())\n",
    "\n",
    "print(k % n)"
   ]
  },
  {
   "cell_type": "markdown",
   "id": "be8f92b2-7431-41c6-a07f-55d144283f97",
   "metadata": {
    "tags": []
   },
   "source": [
    "# Last digit"
   ]
  },
  {
   "cell_type": "markdown",
   "id": "d46f022d-d0c3-4681-84e6-b78a35a58c07",
   "metadata": {},
   "source": [
    "Given a natural number. Print its last digit.\n",
    "\n",
    "**Input data**\n",
    "A natural number is entered.\n",
    "\n",
    "**Output data**\n",
    "Print the answer to the problem."
   ]
  },
  {
   "cell_type": "code",
   "execution_count": 3,
   "id": "98834c2c-6190-4182-91b1-5e9bdf23214a",
   "metadata": {},
   "outputs": [
    {
     "name": "stdin",
     "output_type": "stream",
     "text": [
      " 123\n"
     ]
    },
    {
     "name": "stdout",
     "output_type": "stream",
     "text": [
      "3\n"
     ]
    }
   ],
   "source": [
    "n = int(input())\n",
    "\n",
    "print(n % 10)"
   ]
  },
  {
   "cell_type": "markdown",
   "id": "97b137f9-8b1a-493f-a2e3-b6431fe175a6",
   "metadata": {
    "tags": []
   },
   "source": [
    "# The number of tens of a two-digit number"
   ]
  },
  {
   "cell_type": "markdown",
   "id": "ceb599d3-1c0d-4ca4-a05e-85113a1298cc",
   "metadata": {},
   "source": [
    "A two-digit number is given. Find the number of tens in it.\n",
    "\n",
    "**Input data**\n",
    "A two-digit number is entered.\n",
    "\n",
    "**Output data**\n",
    "Print the answer to the problem."
   ]
  },
  {
   "cell_type": "code",
   "execution_count": 4,
   "id": "420319c5-dd96-4c19-b506-dc6d51841de4",
   "metadata": {},
   "outputs": [
    {
     "name": "stdin",
     "output_type": "stream",
     "text": [
      " 78\n"
     ]
    },
    {
     "name": "stdout",
     "output_type": "stream",
     "text": [
      "7\n"
     ]
    }
   ],
   "source": [
    "n = int(input())\n",
    "\n",
    "print((n - n % 10) // 10)"
   ]
  },
  {
   "cell_type": "markdown",
   "id": "84aaa272-7f91-4f87-b3e0-578f5cfc2077",
   "metadata": {
    "tags": []
   },
   "source": [
    "# The number of tens"
   ]
  },
  {
   "cell_type": "markdown",
   "id": "459a0187-d4f0-4bb0-ba25-c0f3b44f72b7",
   "metadata": {},
   "source": [
    "Given a non-negative integer. Find the number of tens in its decimal notation (that is, the second digit from the right of its decimal notation).\n",
    "\n",
    "**Input data**\n",
    "A non-negative integer is entered.\n",
    "\n",
    "**Output data**\n",
    "Print the answer to the problem."
   ]
  },
  {
   "cell_type": "code",
   "execution_count": 5,
   "id": "12bbf348-fe98-4d99-b2c3-7a123540872b",
   "metadata": {},
   "outputs": [
    {
     "name": "stdin",
     "output_type": "stream",
     "text": [
      " 1589\n"
     ]
    },
    {
     "name": "stdout",
     "output_type": "stream",
     "text": [
      "8\n"
     ]
    }
   ],
   "source": [
    "n = int(input())\n",
    "\n",
    "print((n % 100 - n % 10) // 10)"
   ]
  }
 ],
 "metadata": {
  "kernelspec": {
   "display_name": "algoprog",
   "language": "python",
   "name": "algoprog"
  },
  "language_info": {
   "codemirror_mode": {
    "name": "ipython",
    "version": 3
   },
   "file_extension": ".py",
   "mimetype": "text/x-python",
   "name": "python",
   "nbconvert_exporter": "python",
   "pygments_lexer": "ipython3",
   "version": "3.8.10"
  }
 },
 "nbformat": 4,
 "nbformat_minor": 5
}
