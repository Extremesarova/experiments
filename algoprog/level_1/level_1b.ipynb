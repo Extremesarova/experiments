{
 "cells": [
  {
   "cell_type": "markdown",
   "id": "ba764644-acc2-4f1a-8eb9-c40d45b03360",
   "metadata": {},
   "source": [
    "# Array tasks"
   ]
  },
  {
   "cell_type": "markdown",
   "id": "f4cf82c2-2a34-4126-a51d-95bcb53e9737",
   "metadata": {},
   "source": [
    "## A[0], A[2], A[4], ..."
   ]
  },
  {
   "cell_type": "markdown",
   "id": "133b46c4-9cf4-4ff7-992f-c3e6cfd6c7c1",
   "metadata": {},
   "source": [
    "An array consisting of integers is given. Numbering of elements starts from 0. Write a program that outputs array elements whose numbers are even (0, 2, 4...).\n",
    "\n",
    "**Input data**\n",
    "First, the number N is given - the number of elements in the array (1 ≤ N ≤ 100). Next, N numbers are written separated by a space — the elements of the array. The array consists of integers.\n",
    "\n",
    "**Output data**\n",
    "It is necessary to output all the elements of the array with even numbers."
   ]
  },
  {
   "cell_type": "code",
   "execution_count": 10,
   "id": "9308b28e-d86b-475d-a61c-4efa95a7fc35",
   "metadata": {},
   "outputs": [
    {
     "name": "stdin",
     "output_type": "stream",
     "text": [
      " 6\n",
      " 1 2 3 4 5 6\n"
     ]
    },
    {
     "name": "stdout",
     "output_type": "stream",
     "text": [
      "1 3 5\n"
     ]
    }
   ],
   "source": [
    "n = int(input())\n",
    "array = list(input().split())\n",
    "\n",
    "print(\" \".join(array[::2]))"
   ]
  },
  {
   "cell_type": "markdown",
   "id": "3d9e3718-318c-44ec-8164-9479a916bf58",
   "metadata": {},
   "source": [
    "## Output even elements"
   ]
  },
  {
   "cell_type": "markdown",
   "id": "e9e1eec9-430f-4f50-8334-a193e93f83e2",
   "metadata": {},
   "source": [
    "An array consisting of integers is given. Write a program that outputs those array elements that are even numbers.\n",
    "\n",
    "**Input data**\n",
    "First, the number N is given - the number of elements in the array (1 ≤ N ≤ 100). Next, N numbers are written separated by a space — the elements of the array. The array consists of integers.\n",
    "\n",
    "**Output data**\n",
    "It is necessary to output all even elements of the array (that is, those elements that are even numbers)."
   ]
  },
  {
   "cell_type": "code",
   "execution_count": 14,
   "id": "aacc8552-64a8-44b4-bf2b-42c409b9538e",
   "metadata": {},
   "outputs": [
    {
     "name": "stdin",
     "output_type": "stream",
     "text": [
      " 4\n",
      " 1 2 3 4\n"
     ]
    },
    {
     "name": "stdout",
     "output_type": "stream",
     "text": [
      "2 4\n"
     ]
    }
   ],
   "source": [
    "n = int(input())\n",
    "array = list(map(int, input().split()))\n",
    "sliced_array = [str(el) for el in array if el % 2 == 0]\n",
    "result_string = \" \".join(sliced_array)\n",
    "\n",
    "print(result_string)"
   ]
  },
  {
   "cell_type": "markdown",
   "id": "9aaaf1fe-2966-41f1-bdde-a57455bc83c5",
   "metadata": {},
   "source": [
    "## The number of elements larger than the previous one"
   ]
  },
  {
   "cell_type": "markdown",
   "id": "011efa4c-3a9d-4c18-9191-4ff71732bf51",
   "metadata": {},
   "source": [
    "An array consisting of integers is given. Write a program that counts the number of array elements larger than the previous one (the element with the previous number).\n",
    "\n",
    "**Input data**\n",
    "First, the number N is given - the number of elements in the array (1 ≤ N ≤ 10000). Next, N numbers are written separated by a space - the elements of the array. The array consists of integers.\n",
    "\n",
    "**Output data**\n",
    "It is necessary to output a single number - the number of array elements larger than the previous one."
   ]
  },
  {
   "cell_type": "code",
   "execution_count": 1,
   "id": "d4f2adba-98ce-4e93-94d1-bf557fe33f59",
   "metadata": {},
   "outputs": [
    {
     "name": "stdin",
     "output_type": "stream",
     "text": [
      " 5\n",
      " 1 2 3 4 5\n"
     ]
    },
    {
     "name": "stdout",
     "output_type": "stream",
     "text": [
      "4\n"
     ]
    }
   ],
   "source": [
    "n = int(input())\n",
    "array = list(map(int, input().split()))\n",
    "\n",
    "counter = 0\n",
    "for i in range(1, len(array)):\n",
    "    if array[i] > array[i - 1]:\n",
    "        counter += 1\n",
    "\n",
    "print(counter)"
   ]
  },
  {
   "cell_type": "markdown",
   "id": "cd9b2fe6-2ab3-4ddb-98d5-768604a30eea",
   "metadata": {},
   "source": [
    "## Rearrange the elements in reverse order"
   ]
  },
  {
   "cell_type": "markdown",
   "id": "f63771e4-2643-4a42-9a37-160d352aa5ec",
   "metadata": {},
   "source": [
    "Write a program that rearranges the array elements in reverse order without using an additional array. The program must read the array, change the order of its elements, then output the result (just output the array elements in reverse order is not enough!)  \n",
    "It is not just necessary to enter or output numbers in a tricky way — you really need to rearrange them in your array as required; at the same time, you cannot use additional arrays, slices (in python) and use standard insert operations.  \n",
    "\n",
    "**Input data**\n",
    "First, the number N is given - the number of elements in the array (1 ≤ N ≤ 35). Next, N numbers are written separated by a space — the elements of the array. The array consists of integers.\n",
    "\n",
    "**Output data**\n",
    "It is necessary to output the array obtained after rearranging the elements."
   ]
  },
  {
   "cell_type": "code",
   "execution_count": 2,
   "id": "eeff447a-3533-4b82-8058-d90fdee1f900",
   "metadata": {},
   "outputs": [
    {
     "name": "stdin",
     "output_type": "stream",
     "text": [
      " 6\n",
      " 1 2 3 4 5 6\n"
     ]
    },
    {
     "name": "stdout",
     "output_type": "stream",
     "text": [
      "6 5 4 3 2 1\n"
     ]
    }
   ],
   "source": [
    "n = int(input())\n",
    "array = list(map(int, input().split()))\n",
    "\n",
    "for i in range(n // 2):\n",
    "    array[i], array[n - i - 1] = array[n - i - 1], array[i]\n",
    "\n",
    "print(\" \".join([str(el) for el in array]))"
   ]
  },
  {
   "cell_type": "markdown",
   "id": "ba62a495-4f83-4dc2-9fd2-209b6707110c",
   "metadata": {},
   "source": [
    "## Right shift"
   ]
  },
  {
   "cell_type": "markdown",
   "id": "6c93ef40-32e4-40a8-b675-c4df613a2e23",
   "metadata": {},
   "source": [
    "Write a program that rotates the elements of an array to the right (for example, if the elements are numbered starting from zero, then the 0th element becomes the 1st, the 1st becomes the 2nd, ..., the last becomes the 0th, that is array {3, 5, 7, 9} turns into array {9, 3, 5, 7}).  \n",
    "You must not just enter or display numbers in a tricky way - you really need to rearrange them in your array as required; in this case, you cannot use additional arrays, slices (in python) and use standard operations like insert and pop.  \n",
    "\n",
    "**Input data**\n",
    "First, the number N is given - the number of elements in the array (1 ≤ N ≤ 35). Next, N numbers are written separated by a space — the elements of the array. The array consists of integers.\n",
    "\n",
    "**Output data**\n",
    "It is necessary to display the array obtained after shifting the elements."
   ]
  },
  {
   "cell_type": "code",
   "execution_count": 5,
   "id": "71462e83-15f4-4b3e-bd1e-f7d4a188a970",
   "metadata": {},
   "outputs": [
    {
     "name": "stdin",
     "output_type": "stream",
     "text": [
      " 4\n",
      " 3 5 7 9\n"
     ]
    },
    {
     "name": "stdout",
     "output_type": "stream",
     "text": [
      "9 3 5 7\n"
     ]
    }
   ],
   "source": [
    "n = int(input())\n",
    "arr = list(map(int, input().split()))\n",
    "    \n",
    "future_zero_el = arr[n - 1]\n",
    "for i in range(n - 1, -1, -1):\n",
    "    arr[i] = arr[i - 1]\n",
    "arr[0] = future_zero_el\n",
    "\n",
    "print(\" \".join([str(el) for el in arr]))"
   ]
  },
  {
   "cell_type": "code",
   "execution_count": null,
   "id": "15a7801c-e5e0-4b1b-9072-b092c4abbe11",
   "metadata": {},
   "outputs": [],
   "source": []
  }
 ],
 "metadata": {
  "kernelspec": {
   "display_name": "algoprog",
   "language": "python",
   "name": "algoprog"
  },
  "language_info": {
   "codemirror_mode": {
    "name": "ipython",
    "version": 3
   },
   "file_extension": ".py",
   "mimetype": "text/x-python",
   "name": "python",
   "nbconvert_exporter": "python",
   "pygments_lexer": "ipython3",
   "version": "3.8.10"
  }
 },
 "nbformat": 4,
 "nbformat_minor": 5
}
