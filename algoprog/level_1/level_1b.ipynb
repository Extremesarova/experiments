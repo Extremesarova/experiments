{
 "cells": [
  {
   "cell_type": "markdown",
   "id": "ba764644-acc2-4f1a-8eb9-c40d45b03360",
   "metadata": {},
   "source": [
    "# Array tasks"
   ]
  },
  {
   "cell_type": "markdown",
   "id": "f4cf82c2-2a34-4126-a51d-95bcb53e9737",
   "metadata": {},
   "source": [
    "## A[0], A[2], A[4], ..."
   ]
  },
  {
   "cell_type": "markdown",
   "id": "133b46c4-9cf4-4ff7-992f-c3e6cfd6c7c1",
   "metadata": {},
   "source": [
    "An array consisting of integers is given. Numbering of elements starts from 0. Write a program that outputs array elements whose numbers are even (0, 2, 4...).\n",
    "\n",
    "**Input data**\n",
    "First, the number N is given - the number of elements in the array (1 ≤ N ≤ 100). Next, N numbers are written separated by a space — the elements of the array. The array consists of integers.\n",
    "\n",
    "**Output data**\n",
    "It is necessary to output all the elements of the array with even numbers."
   ]
  },
  {
   "cell_type": "code",
   "execution_count": 10,
   "id": "9308b28e-d86b-475d-a61c-4efa95a7fc35",
   "metadata": {},
   "outputs": [
    {
     "name": "stdin",
     "output_type": "stream",
     "text": [
      " 6\n",
      " 1 2 3 4 5 6\n"
     ]
    },
    {
     "name": "stdout",
     "output_type": "stream",
     "text": [
      "1 3 5\n"
     ]
    }
   ],
   "source": [
    "n = int(input())\n",
    "array = list(input().split())\n",
    "\n",
    "print(\" \".join(array[::2]))"
   ]
  },
  {
   "cell_type": "markdown",
   "id": "3d9e3718-318c-44ec-8164-9479a916bf58",
   "metadata": {},
   "source": [
    "## Output even elements"
   ]
  },
  {
   "cell_type": "markdown",
   "id": "e9e1eec9-430f-4f50-8334-a193e93f83e2",
   "metadata": {},
   "source": [
    "An array consisting of integers is given. Write a program that outputs those array elements that are even numbers.\n",
    "\n",
    "**Input data**\n",
    "First, the number N is given - the number of elements in the array (1 ≤ N ≤ 100). Next, N numbers are written separated by a space — the elements of the array. The array consists of integers.\n",
    "\n",
    "**Output data**\n",
    "It is necessary to output all even elements of the array (that is, those elements that are even numbers)."
   ]
  },
  {
   "cell_type": "code",
   "execution_count": 14,
   "id": "aacc8552-64a8-44b4-bf2b-42c409b9538e",
   "metadata": {},
   "outputs": [
    {
     "name": "stdin",
     "output_type": "stream",
     "text": [
      " 4\n",
      " 1 2 3 4\n"
     ]
    },
    {
     "name": "stdout",
     "output_type": "stream",
     "text": [
      "2 4\n"
     ]
    }
   ],
   "source": [
    "n = int(input())\n",
    "array = list(map(int, input().split()))\n",
    "sliced_array = [str(el) for el in array if el % 2 == 0]\n",
    "result_string = \" \".join(sliced_array)\n",
    "\n",
    "print(result_string)"
   ]
  },
  {
   "cell_type": "code",
   "execution_count": null,
   "id": "15a7801c-e5e0-4b1b-9072-b092c4abbe11",
   "metadata": {},
   "outputs": [],
   "source": []
  }
 ],
 "metadata": {
  "kernelspec": {
   "display_name": "algoprog",
   "language": "python",
   "name": "algoprog"
  },
  "language_info": {
   "codemirror_mode": {
    "name": "ipython",
    "version": 3
   },
   "file_extension": ".py",
   "mimetype": "text/x-python",
   "name": "python",
   "nbconvert_exporter": "python",
   "pygments_lexer": "ipython3",
   "version": "3.8.10"
  }
 },
 "nbformat": 4,
 "nbformat_minor": 5
}
