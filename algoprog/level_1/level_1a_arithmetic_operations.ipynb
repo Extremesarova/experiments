{
 "cells": [
  {
   "cell_type": "markdown",
   "id": "a04ee68a-f256-4bf1-80a0-52619559dbbb",
   "metadata": {
    "tags": []
   },
   "source": [
    "# Sharing apples # 1"
   ]
  },
  {
   "cell_type": "markdown",
   "id": "ac5882bb-2204-460e-b67a-fc84facaa364",
   "metadata": {},
   "source": [
    "**N** schoolchildren divide **K** apples equally, the non-dividing remainder remains in the basket. How many apples will each student get?\n",
    "\n",
    "**Input data**\n",
    "The program receives the natural numbers N and K.\n",
    "\n",
    "**Output data**\n",
    "The program should output the desired number of apples."
   ]
  },
  {
   "cell_type": "code",
   "execution_count": 1,
   "id": "ce2c4b4f-8a0a-4fbd-a3e1-a8890be136d9",
   "metadata": {},
   "outputs": [
    {
     "name": "stdin",
     "output_type": "stream",
     "text": [
      " 3\n",
      " 14\n"
     ]
    },
    {
     "name": "stdout",
     "output_type": "stream",
     "text": [
      "4\n"
     ]
    }
   ],
   "source": [
    "n = int(input())\n",
    "k = int(input())\n",
    "\n",
    "print(k // n)"
   ]
  },
  {
   "cell_type": "markdown",
   "id": "ab62a615-e4c3-4c94-88b0-63c0686ba12e",
   "metadata": {
    "tags": []
   },
   "source": [
    "# Sharing apples # 2"
   ]
  },
  {
   "cell_type": "markdown",
   "id": "b3181266-a51b-4a34-bd0c-e7c4a6924dc0",
   "metadata": {},
   "source": [
    "**N** schoolchildren divide **K** apples equally, the non-dividing remainder remains in the basket. How many apples will remain in the basket?\n",
    "\n",
    "**Input data**\n",
    "The program receives the natural numbers N and K.\n",
    "\n",
    "**Output data**\n",
    "The program should output the desired number of apples."
   ]
  },
  {
   "cell_type": "code",
   "execution_count": 2,
   "id": "2fb23ccf-9085-49f5-892b-5fc27adee9d2",
   "metadata": {},
   "outputs": [
    {
     "name": "stdin",
     "output_type": "stream",
     "text": [
      " 3\n",
      " 14\n"
     ]
    },
    {
     "name": "stdout",
     "output_type": "stream",
     "text": [
      "2\n"
     ]
    }
   ],
   "source": [
    "n = int(input())\n",
    "k = int(input())\n",
    "\n",
    "print(k % n)"
   ]
  },
  {
   "cell_type": "markdown",
   "id": "be8f92b2-7431-41c6-a07f-55d144283f97",
   "metadata": {
    "tags": []
   },
   "source": [
    "# Last digit"
   ]
  },
  {
   "cell_type": "markdown",
   "id": "d46f022d-d0c3-4681-84e6-b78a35a58c07",
   "metadata": {},
   "source": [
    "Given a natural number. Print its last digit.\n",
    "\n",
    "**Input data**\n",
    "A natural number is entered.\n",
    "\n",
    "**Output data**\n",
    "Print the answer to the problem."
   ]
  },
  {
   "cell_type": "code",
   "execution_count": 3,
   "id": "98834c2c-6190-4182-91b1-5e9bdf23214a",
   "metadata": {},
   "outputs": [
    {
     "name": "stdin",
     "output_type": "stream",
     "text": [
      " 123\n"
     ]
    },
    {
     "name": "stdout",
     "output_type": "stream",
     "text": [
      "3\n"
     ]
    }
   ],
   "source": [
    "n = int(input())\n",
    "\n",
    "print(n % 10)"
   ]
  },
  {
   "cell_type": "markdown",
   "id": "97b137f9-8b1a-493f-a2e3-b6431fe175a6",
   "metadata": {
    "tags": []
   },
   "source": [
    "# The number of tens of a two-digit number"
   ]
  },
  {
   "cell_type": "markdown",
   "id": "ceb599d3-1c0d-4ca4-a05e-85113a1298cc",
   "metadata": {},
   "source": [
    "A two-digit number is given. Find the number of tens in it.\n",
    "\n",
    "**Input data**\n",
    "A two-digit number is entered.\n",
    "\n",
    "**Output data**\n",
    "Print the answer to the problem."
   ]
  },
  {
   "cell_type": "code",
   "execution_count": 2,
   "id": "420319c5-dd96-4c19-b506-dc6d51841de4",
   "metadata": {},
   "outputs": [
    {
     "name": "stdin",
     "output_type": "stream",
     "text": [
      " 78\n"
     ]
    },
    {
     "name": "stdout",
     "output_type": "stream",
     "text": [
      "7\n"
     ]
    }
   ],
   "source": [
    "n = int(input())\n",
    "\n",
    "print(n // 10)"
   ]
  },
  {
   "cell_type": "markdown",
   "id": "84aaa272-7f91-4f87-b3e0-578f5cfc2077",
   "metadata": {
    "tags": []
   },
   "source": [
    "# The number of tens"
   ]
  },
  {
   "cell_type": "markdown",
   "id": "459a0187-d4f0-4bb0-ba25-c0f3b44f72b7",
   "metadata": {},
   "source": [
    "Given a non-negative integer. Find the number of tens in its decimal notation (that is, the second digit from the right of its decimal notation).\n",
    "\n",
    "**Input data**\n",
    "A non-negative integer is entered.\n",
    "\n",
    "**Output data**\n",
    "Print the answer to the problem."
   ]
  },
  {
   "cell_type": "code",
   "execution_count": 3,
   "id": "12bbf348-fe98-4d99-b2c3-7a123540872b",
   "metadata": {},
   "outputs": [
    {
     "name": "stdin",
     "output_type": "stream",
     "text": [
      " 1589\n"
     ]
    },
    {
     "name": "stdout",
     "output_type": "stream",
     "text": [
      "8\n"
     ]
    }
   ],
   "source": [
    "n = int(input())\n",
    "\n",
    "print(n % 100 // 10)"
   ]
  },
  {
   "cell_type": "markdown",
   "id": "bc6be933-2d72-4ffa-9a10-7b48bf834155",
   "metadata": {
    "tags": []
   },
   "source": [
    "# Sum of digits"
   ]
  },
  {
   "cell_type": "markdown",
   "id": "8a2e7754-f83f-4ad0-903a-59f6d738c792",
   "metadata": {},
   "source": [
    "Given a three digit number. You can see the sum of its numbers.\n",
    "\n",
    "**Input data**\n",
    "Enter a three-digit number.\n",
    "\n",
    "**Output data**\n",
    "Print the answer to the problem."
   ]
  },
  {
   "cell_type": "code",
   "execution_count": 1,
   "id": "16c796ef-89f4-4940-87e2-338fa2420cb7",
   "metadata": {},
   "outputs": [
    {
     "name": "stdin",
     "output_type": "stream",
     "text": [
      " 179\n"
     ]
    },
    {
     "name": "stdout",
     "output_type": "stream",
     "text": [
      "17\n"
     ]
    }
   ],
   "source": [
    "n = int(input())\n",
    "\n",
    "print(n // 100 + (n % 100) // 10 + n % 10)"
   ]
  },
  {
   "cell_type": "markdown",
   "id": "d3662af5-394a-4471-8f22-c3f5c3327c0d",
   "metadata": {
    "tags": []
   },
   "source": [
    "# Electronic clock - 1"
   ]
  },
  {
   "cell_type": "markdown",
   "id": "450d9a8b-e051-4029-8d05-199a034c623f",
   "metadata": {},
   "source": [
    "Number **N** is given. N minutes have passed since the beginning of the day. Determine how many hours and minutes the digital clock will show at this moment. The program should output two numbers: the number of hours (from 0 to 23) and the number of minutes (from 0 to 59).  \n",
    "*Note that the number n can be greater than the number of minutes in a day.*\n",
    "\n",
    "**Input data**\n",
    "Enter a three-digit number.\n",
    "\n",
    "**Output data**\n",
    "Print the answer to the problem."
   ]
  },
  {
   "cell_type": "code",
   "execution_count": 6,
   "id": "433ff9e8-3b33-4733-a6ac-957d096af8b9",
   "metadata": {},
   "outputs": [
    {
     "name": "stdin",
     "output_type": "stream",
     "text": [
      " 1441\n"
     ]
    },
    {
     "name": "stdout",
     "output_type": "stream",
     "text": [
      "0 1\n"
     ]
    }
   ],
   "source": [
    "n = int(input())\n",
    "\n",
    "print(n // 60 % 24, n % 60)"
   ]
  },
  {
   "cell_type": "markdown",
   "id": "cd32fa0d-458e-4996-9755-6b22e01ca5a7",
   "metadata": {
    "tags": []
   },
   "source": [
    "# Purchase cost"
   ]
  },
  {
   "cell_type": "markdown",
   "id": "a63fe151-bbc6-4817-94ed-149a92a2cee8",
   "metadata": {},
   "source": [
    "A pie in the cafeteria costs **a** rubles and **b** kopecks. Determine how many rubles and kopecks you need to pay for **n** pies.\n",
    "\n",
    "**Input data**\n",
    "The program receives three numbers as input: a, b, n.\n",
    "\n",
    "**Output data**\n",
    "The program should display two numbers: the cost of the purchase in rubles and kopecks."
   ]
  },
  {
   "cell_type": "code",
   "execution_count": 7,
   "id": "befac545-3575-4ca3-89e7-1923f06834b4",
   "metadata": {},
   "outputs": [
    {
     "name": "stdin",
     "output_type": "stream",
     "text": [
      " 10\n",
      " 20\n",
      " 2\n"
     ]
    },
    {
     "name": "stdout",
     "output_type": "stream",
     "text": [
      "20 40\n"
     ]
    }
   ],
   "source": [
    "a, b, n = int(input()), int(input()), int(input())\n",
    "rubles = a * n + b * n // 100\n",
    "cents = b * n % 100\n",
    "\n",
    "print(rubles, cents)"
   ]
  },
  {
   "cell_type": "markdown",
   "id": "449ce90f-004a-4d36-8049-4639f31cafd3",
   "metadata": {
    "tags": []
   },
   "source": [
    "# Time difference"
   ]
  },
  {
   "cell_type": "markdown",
   "id": "3acb99a5-ca34-4c4f-8f66-3640bc0fb31a",
   "metadata": {},
   "source": [
    "The values of two points of time belonging to the same day are given: hours, minutes and seconds for each of the points of time. It is known that the second moment of time came not earlier than the first. Determine how many seconds elapsed between two points in time.\n",
    "\n",
    "**Input data**\n",
    "The input program receives three integers - hours, minutes, seconds, specifying the first moment of time and three integers, specifying the second moment of time.\n",
    "\n",
    "**Output data**\n",
    "Print the number of seconds between these times."
   ]
  },
  {
   "cell_type": "code",
   "execution_count": 1,
   "id": "7c8e2d6b-169a-495e-820d-130e9042c9fe",
   "metadata": {},
   "outputs": [
    {
     "name": "stdin",
     "output_type": "stream",
     "text": [
      " 1\n",
      " 1\n",
      " 1\n",
      " 2\n",
      " 2\n",
      " 2\n"
     ]
    },
    {
     "name": "stdout",
     "output_type": "stream",
     "text": [
      "3661\n"
     ]
    }
   ],
   "source": [
    "h1, m1, s1 = int(input()), int(input()), int(input())\n",
    "h2, m2, s2 = int(input()), int(input()), int(input())\n",
    "time_difference = (h2 - h1) * 60 * 60 + (m2 - m1) * 60 + (s2 - s1)\n",
    "\n",
    "print(time_difference)"
   ]
  },
  {
   "cell_type": "markdown",
   "id": "464021f4-f856-420e-9a97-a1d6fa9290a8",
   "metadata": {
    "tags": []
   },
   "source": [
    "# Hupotenuse"
   ]
  },
  {
   "cell_type": "markdown",
   "id": "e54ce5b1-cc6d-4c0f-99b1-f58e5defcbe1",
   "metadata": {},
   "source": [
    "You are given two numbers **a** and **b**. Find the hypotenuse of a right triangle with given legs.\n",
    "\n",
    "**Input data**\n",
    "In two lines, two numbers are entered (numbers are integer, positive, do not exceed 1000).\n",
    "\n",
    "**Output data**\n",
    "Output the answer to the problem."
   ]
  },
  {
   "cell_type": "code",
   "execution_count": 3,
   "id": "e04dd307-6aee-493e-b07d-15ef28c4ce29",
   "metadata": {},
   "outputs": [
    {
     "name": "stdin",
     "output_type": "stream",
     "text": [
      " 3\n",
      " 4\n"
     ]
    },
    {
     "name": "stdout",
     "output_type": "stream",
     "text": [
      "5.0\n"
     ]
    }
   ],
   "source": [
    "a, b = int(input()), int(input())\n",
    "c = (a ** 2 + b ** 2) ** 0.5\n",
    "\n",
    "print(c)"
   ]
  },
  {
   "cell_type": "markdown",
   "id": "b4ce405d-514c-4bc5-9d0d-945ec811baf6",
   "metadata": {
    "tags": []
   },
   "source": [
    "# Next and previous"
   ]
  },
  {
   "cell_type": "markdown",
   "id": "f5a99b1f-b092-4cf2-af80-dd55008b4e21",
   "metadata": {},
   "source": [
    "Write a program that reads an integer and outputs text similar to the one in the example. Spaces, punctuation marks, uppercase and lowercase letters are important!\n",
    "\n",
    "**Input data**\n",
    "An integer is entered, modulo not exceeding 10000.\n",
    "\n",
    "**Output data**\n",
    "Print first the phrase \"The next number for the number \", then the entered number, then the word \" is \" surrounded by spaces, then the formula for the number following the entered number, and finally the period sign without a space. Similarly in the next line for the previous number."
   ]
  },
  {
   "cell_type": "code",
   "execution_count": 4,
   "id": "a3784155-ba24-437d-9a5b-bc7448608dd2",
   "metadata": {},
   "outputs": [
    {
     "name": "stdin",
     "output_type": "stream",
     "text": [
      " 179\n"
     ]
    },
    {
     "name": "stdout",
     "output_type": "stream",
     "text": [
      "The next number for the number 179 is 180.\n",
      "The previous number for the number 179 is 178.\n"
     ]
    }
   ],
   "source": [
    "n = int(input())\n",
    "\n",
    "print(f\"The next number for the number {n} is {n + 1}.\")\n",
    "print(f\"The previous number for the number {n} is {n - 1}.\")"
   ]
  },
  {
   "cell_type": "code",
   "execution_count": null,
   "id": "dd9ded93-e500-4555-a1cd-bc47eab93733",
   "metadata": {},
   "outputs": [],
   "source": []
  }
 ],
 "metadata": {
  "kernelspec": {
   "display_name": "algoprog",
   "language": "python",
   "name": "algoprog"
  },
  "language_info": {
   "codemirror_mode": {
    "name": "ipython",
    "version": 3
   },
   "file_extension": ".py",
   "mimetype": "text/x-python",
   "name": "python",
   "nbconvert_exporter": "python",
   "pygments_lexer": "ipython3",
   "version": "3.8.10"
  }
 },
 "nbformat": 4,
 "nbformat_minor": 5
}
